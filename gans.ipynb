{
  "cells": [
    {
      "cell_type": "markdown",
      "metadata": {
        "id": "bnDxdiNZXHDT"
      },
      "source": [
        "#Import Libraries"
      ]
    },
    {
      "cell_type": "code",
      "execution_count": null,
      "metadata": {
        "id": "cs5JWdrjWzrQ"
      },
      "outputs": [],
      "source": [
        "import torch\n",
        "import torch.nn as nn\n",
        "import torch.optim as optim\n",
        "import torchvision.transforms as transform\n",
        "import torchvision.datasets as datasets\n",
        "import torchvision.utils as utils\n",
        "from torch.utils.data import DataLoader\n",
        "import matplotlib.pyplot as plt\n",
        "import numpy as np"
      ]
    },
    {
      "cell_type": "markdown",
      "metadata": {
        "id": "AembWBOEXJsC"
      },
      "source": [
        "#dataset preparation"
      ]
    },
    {
      "cell_type": "code",
      "execution_count": null,
      "metadata": {
        "id": "GH9W09YBXg9X"
      },
      "outputs": [],
      "source": [
        "device = torch.device(\"cuda\" if torch.cuda.is_available() else \"cpu\")\n",
        "\n",
        "batch_size = 128 # mini batch size\n",
        "image_size = 28*28 # image size\n",
        "\n",
        "transform = transform.Compose([\n",
        "    transform.ToTensor(), # convert images to tensor\n",
        "    transform.Normalize((0.5,), (0.5,)) # normalization -> compress between -1 and 1\n",
        "])\n",
        "\n",
        "# Loading the MNIST dataset\n",
        "dataset = datasets.MNIST(root='./data', train=True, download=True, transform=transform)\n",
        "\n",
        "# load the dataset in batches\n",
        "dataLoader = DataLoader(dataset, batch_size = batch_size, shuffle = True)\n"
      ]
    },
    {
      "cell_type": "markdown",
      "metadata": {
        "id": "aGBmIXLJXNMQ"
      },
      "source": [
        "#Discriminator"
      ]
    },
    {
      "cell_type": "code",
      "execution_count": null,
      "metadata": {
        "id": "_lvwGwLpXhdX"
      },
      "outputs": [],
      "source": [
        "class Discriminator(nn.Module): # will try to understand whether the images produced by the generator are real or fake\n",
        "\n",
        "    def __init__(self):\n",
        "        super(Discriminator, self).__init__()\n",
        "        self.model = nn.Sequential(\n",
        "            nn.Linear(image_size, 1024), # input: image size, 1024: number of neurons, i.e. output of this layer\n",
        "            nn.LeakyReLU(0.2), # activation function and slope of 0.2\n",
        "            nn.Linear(1024, 512), # From 1024 to 512 nodes\n",
        "            nn.LeakyReLU(0.2),\n",
        "            nn.Linear(512, 256), # From 512 to 256 nodes\n",
        "            nn.LeakyReLU(0.2),\n",
        "            nn.Linear(256, 1), # 256 to 1 node, output layer\n",
        "            nn.Sigmoid() # sets the output between 0 and 1\n",
        "            )\n",
        "\n",
        "    def forward(self, img):\n",
        "        return self.model(img.view(-1, image_size)) # flatten the image and give it to the model\n"
      ]
    },
    {
      "cell_type": "markdown",
      "metadata": {
        "id": "rt_p6dOKXShZ"
      },
      "source": [
        "#create generator"
      ]
    },
    {
      "cell_type": "code",
      "execution_count": null,
      "metadata": {
        "id": "1XH4JXKLXiID"
      },
      "outputs": [],
      "source": [
        "class Generator(nn.Module):\n",
        "\n",
        "    def __init__(self, z_dim):\n",
        "        super(Generator, self).__init__()\n",
        "        self.model = nn.Sequential(\n",
        "            nn.Linear(z_dim, 256), # fully connected layer from input to 256 nodes\n",
        "            nn.ReLU(),\n",
        "            nn.Linear(256, 512), # From 256 to 512 nodes\n",
        "            nn.ReLU(),\n",
        "            nn.Linear(512, 1024), # From 512 to 1024 nodes\n",
        "            nn.ReLU(),\n",
        "            nn.Linear(1024, image_size), # From 1024 to 784 nodes\n",
        "            nn.Tanh() # output activation function\n",
        "            )\n",
        "\n",
        "\n",
        "    def forward(self, x):\n",
        "        return self.model(x).view(-1, 1, 28, 28) # Converts the output to a 28*28 image"
      ]
    },
    {
      "cell_type": "markdown",
      "metadata": {
        "id": "dT8wjJ2CXZP3"
      },
      "source": [
        "#gan training"
      ]
    },
    {
      "cell_type": "code",
      "execution_count": null,
      "metadata": {
        "colab": {
          "background_save": true,
          "base_uri": "https://localhost:8080/"
        },
        "id": "hdY7JSGtXiwM",
        "outputId": "b185cd52-bd9b-4206-c75c-534e90081211"
      },
      "outputs": [
        {
          "name": "stdout",
          "output_type": "stream",
          "text": [
            "Epoch 1/50, d_loss: 1.588, g_loss: 3.726\n",
            "Epoch 2/50, d_loss: 0.644, g_loss: 2.346\n",
            "Epoch 3/50, d_loss: 0.514, g_loss: 2.928\n",
            "Epoch 4/50, d_loss: 0.638, g_loss: 1.774\n",
            "Epoch 5/50, d_loss: 0.215, g_loss: 3.383\n",
            "Epoch 6/50, d_loss: 0.135, g_loss: 3.658\n",
            "Epoch 7/50, d_loss: 0.131, g_loss: 4.000\n",
            "Epoch 8/50, d_loss: 0.577, g_loss: 2.724\n",
            "Epoch 9/50, d_loss: 0.239, g_loss: 3.210\n",
            "Epoch 10/50, d_loss: 0.290, g_loss: 1.863\n",
            "Epoch 11/50, d_loss: 0.395, g_loss: 5.769\n",
            "Epoch 12/50, d_loss: 0.150, g_loss: 3.967\n",
            "Epoch 13/50, d_loss: 0.116, g_loss: 3.929\n",
            "Epoch 14/50, d_loss: 0.065, g_loss: 5.540\n",
            "Epoch 15/50, d_loss: 0.000, g_loss: 38.278\n",
            "Epoch 16/50, d_loss: 0.494, g_loss: 2.450\n",
            "Epoch 17/50, d_loss: 0.355, g_loss: 4.847\n",
            "Epoch 18/50, d_loss: 3.895, g_loss: 9.314\n",
            "Epoch 19/50, d_loss: 0.190, g_loss: 7.791\n",
            "Epoch 20/50, d_loss: 0.190, g_loss: 3.437\n",
            "Epoch 21/50, d_loss: 0.731, g_loss: 3.749\n",
            "Epoch 22/50, d_loss: 0.559, g_loss: 3.932\n",
            "Epoch 23/50, d_loss: 0.357, g_loss: 2.822\n",
            "Epoch 24/50, d_loss: 0.735, g_loss: 1.887\n",
            "Epoch 25/50, d_loss: 0.871, g_loss: 1.274\n",
            "Epoch 26/50, d_loss: 0.885, g_loss: 1.432\n",
            "Epoch 27/50, d_loss: 0.767, g_loss: 2.178\n",
            "Epoch 28/50, d_loss: 0.980, g_loss: 2.180\n",
            "Epoch 29/50, d_loss: 0.697, g_loss: 2.360\n",
            "Epoch 30/50, d_loss: 0.913, g_loss: 1.428\n",
            "Epoch 31/50, d_loss: 0.867, g_loss: 1.948\n",
            "Epoch 32/50, d_loss: 1.165, g_loss: 1.735\n",
            "Epoch 33/50, d_loss: 1.025, g_loss: 1.189\n",
            "Epoch 34/50, d_loss: 1.101, g_loss: 1.103\n",
            "Epoch 35/50, d_loss: 0.869, g_loss: 1.769\n",
            "Epoch 36/50, d_loss: 0.977, g_loss: 1.425\n",
            "Epoch 37/50, d_loss: 0.933, g_loss: 1.419\n",
            "Epoch 38/50, d_loss: 0.855, g_loss: 1.358\n",
            "Epoch 39/50, d_loss: 1.067, g_loss: 0.809\n",
            "Epoch 40/50, d_loss: 0.934, g_loss: 1.150\n",
            "Epoch 41/50, d_loss: 1.045, g_loss: 2.058\n",
            "Epoch 42/50, d_loss: 0.902, g_loss: 1.612\n",
            "Epoch 43/50, d_loss: 1.080, g_loss: 1.090\n",
            "Epoch 44/50, d_loss: 0.797, g_loss: 1.515\n",
            "Epoch 45/50, d_loss: 0.946, g_loss: 1.738\n",
            "Epoch 46/50, d_loss: 1.054, g_loss: 2.233\n",
            "Epoch 47/50, d_loss: 0.975, g_loss: 0.939\n",
            "Epoch 48/50, d_loss: 1.132, g_loss: 1.334\n",
            "Epoch 49/50, d_loss: 0.938, g_loss: 1.636\n",
            "Epoch 50/50, d_loss: 0.989, g_loss: 1.171\n"
          ]
        }
      ],
      "source": [
        "# hyperparameters\n",
        "lr_g = 0.0002 # genarator learning rate\n",
        "lr_d = 0.0001 # discriminator learning rate\n",
        "z_dim = 100 # random noise vector size\n",
        "epochs = 50 # number of training cycles\n",
        "\n",
        "# Model initialization: define generator and discriminator\n",
        "generator = Generator(z_dim).to(device)\n",
        "discriminator = Discriminator().to(device)\n",
        "\n",
        "# definition of loss function and optimization algorithms\n",
        "criterion = nn.BCELoss() # Binary Cross Entropy Loss\n",
        "g_optimizer = optim.Adam(generator.parameters(), lr = lr_g, betas = (0.5, 0.999)) # generator\n",
        "d_optimizer = optim.Adam(discriminator.parameters(), lr = lr_d, betas = (0.5, 0.999)) # discriminator\n",
        "\n",
        "\n",
        "# starting the training cycle\n",
        "for epoch in range(epochs):\n",
        "    for i, (real_imgs, _) in enumerate(dataLoader): # uploading images\n",
        "      real_imgs = real_imgs.to(device)\n",
        "      batch_size = real_imgs.size(0) # get current batch size\n",
        "      real_labels = torch.ones(batch_size, 1).to(device) # tag real images 1\n",
        "      fake_labels = torch.zeros(batch_size, 1).to(device) # Tag fake images as 0\n",
        "\n",
        "      # Discriminator training\n",
        "      z = torch.randn(batch_size, z_dim).to(device) # generate random noise vector\n",
        "      fake_imgs = generator(z) # creation of fake images\n",
        "      real_loss = criterion(discriminator(real_imgs), real_labels) # loss of real images\n",
        "      fake_loss = criterion(discriminator(fake_imgs.detach()), fake_labels) # loss of fake images\n",
        "      d_loss = real_loss + fake_loss # total loss\n",
        "\n",
        "      d_optimizer.zero_grad() # zeroing out gradients\n",
        "      d_loss.backward()\n",
        "      d_optimizer.step() # update parameters\n",
        "\n",
        "      # generator training\n",
        "      g_loss = criterion(discriminator(fake_imgs), real_labels) # loss of generator\n",
        "      g_optimizer.zero_grad() # zeroing out gradients\n",
        "      g_loss.backward()\n",
        "      g_optimizer.step() # update parameters\n",
        "\n",
        "    print(f\"Epoch {epoch+1}/{epochs}, d_loss: {d_loss.item():.3f}, g_loss: {g_loss.item():.3f}\")"
      ]
    },
    {
      "cell_type": "markdown",
      "metadata": {
        "id": "oERqYTWoXbYE"
      },
      "source": [
        "#model testing and performance evaluation"
      ]
    },
    {
      "cell_type": "code",
      "execution_count": null,
      "metadata": {
        "colab": {
          "background_save": true
        },
        "id": "XXK_nsRIXjJ7",
        "outputId": "93cc596e-80f8-45bb-e37b-89434781400d"
      },
      "outputs": [
        {
          "data": {
            "image/png": "[encoded data removed]",
            "text/plain": [
              "<Figure size 640x480 with 1 Axes>"
            ]
          },
          "metadata": {},
          "output_type": "display_data"
        }
      ],
      "source": [
        "# image generation with random noise\n",
        "with torch.no_grad():\n",
        "  z = torch.randn(16, z_dim).to(device) # Generate 16 random noises\n",
        "  sample_imgs = generator(z).cpu() # Create a fake image with a generator\n",
        "  grid = np.transpose(utils.make_grid(sample_imgs, nrow = 4, normalize = True), (1, 2, 0)) # arrange images in grid view\n",
        "  plt.imshow(grid)\n",
        "  plt.show()"
      ]
    }
  ],
  "metadata": {
    "accelerator": "GPU",
    "colab": {
      "gpuType": "T4",
      "provenance": []
    },
    "kernelspec": {
      "display_name": "Python 3",
      "name": "python3"
    },
    "language_info": {
      "name": "python"
    }
  },
  "nbformat": 4,
  "nbformat_minor": 0
}